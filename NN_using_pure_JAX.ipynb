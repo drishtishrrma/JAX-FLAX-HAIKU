{
  "nbformat": 4,
  "nbformat_minor": 0,
  "metadata": {
    "colab": {
      "name": "NN using pure JAX.ipynb",
      "provenance": []
    },
    "kernelspec": {
      "name": "python3",
      "display_name": "Python 3"
    },
    "language_info": {
      "name": "python"
    },
    "accelerator": "GPU"
  },
  "cells": [
    {
      "cell_type": "markdown",
      "source": [
        "#Neural Network (NN) using pure JAX"
      ],
      "metadata": {
        "id": "sXIdvXtub-Dc"
      }
    },
    {
      "cell_type": "code",
      "source": [
        "#Importing all the necessary libraries\n",
        "\n",
        "import jax.numpy as jnp\n",
        "from jax import grad\n",
        "from jax import random"
      ],
      "metadata": {
        "id": "32WWAySJb-u_"
      },
      "execution_count": 11,
      "outputs": []
    },
    {
      "cell_type": "code",
      "source": [
        "#Parameters\n",
        "\n",
        "layer_sizes = [5,2,3]  #Hidden units in each layer (total 3 layers)\n",
        "\n",
        "key = random.PRNGKey(0)\n",
        "key, *keys = random.split(key, len(layer_sizes))\n",
        "\n",
        "key, *keys = random.split(key,3)  #len(layer_sizes) = 3\n",
        "inputs = random.normal(keys[0],(8,5))\n",
        "targets = random.normal(keys[1], (8,3))\n",
        "batch = (inputs,targets)"
      ],
      "metadata": {
        "id": "6LyWCqFrcM4W"
      },
      "execution_count": 12,
      "outputs": []
    },
    {
      "cell_type": "code",
      "source": [
        "key"
      ],
      "metadata": {
        "colab": {
          "base_uri": "https://localhost:8080/"
        },
        "id": "qqC26xFwe5bl",
        "outputId": "28209de9-a328-4a05-95d5-ef49f3127c3e"
      },
      "execution_count": 13,
      "outputs": [
        {
          "output_type": "execute_result",
          "data": {
            "text/plain": [
              "array([538105296,  96102591], dtype=uint32)"
            ]
          },
          "metadata": {},
          "execution_count": 13
        }
      ]
    },
    {
      "cell_type": "code",
      "source": [
        "#subkeys\n",
        "keys"
      ],
      "metadata": {
        "colab": {
          "base_uri": "https://localhost:8080/"
        },
        "id": "p_41pOvEe3KI",
        "outputId": "e210d5b2-1b5d-42cc-a70b-923bcdc31c16"
      },
      "execution_count": 14,
      "outputs": [
        {
          "output_type": "execute_result",
          "data": {
            "text/plain": [
              "[array([3126261553, 3539587250], dtype=uint32),\n",
              " array([1660104999, 2332457458], dtype=uint32)]"
            ]
          },
          "metadata": {},
          "execution_count": 14
        }
      ]
    },
    {
      "cell_type": "code",
      "source": [
        "#length of subkeys\n",
        "len(keys)"
      ],
      "metadata": {
        "colab": {
          "base_uri": "https://localhost:8080/"
        },
        "id": "WWSTm5f-ejmm",
        "outputId": "5eb74a67-e150-42b3-b045-613df372c4ba"
      },
      "execution_count": 15,
      "outputs": [
        {
          "output_type": "execute_result",
          "data": {
            "text/plain": [
              "2"
            ]
          },
          "metadata": {},
          "execution_count": 15
        }
      ]
    },
    {
      "cell_type": "code",
      "source": [
        "#Initialization function\n",
        "def init_layer(key, n_in, n_out):\n",
        "  k1,k2 = random.split(key)\n",
        "  w = random.normal(key, (n_in,n_out))\n",
        "  b = random.normal(key,(n_out,))\n",
        "  return w,b\n",
        "\n",
        "\n",
        "#Utility function for predicting output\n",
        "def predict(params, inputs):\n",
        "  for w,b in params:\n",
        "    outputs = jnp.dot(inputs,w)+b\n",
        "    inputs = jnp.tanh(outputs)\n",
        "  return outputs\n",
        "\n",
        "#Utility function for calcultaing loss\n",
        "def loss(params, batch):\n",
        "  inputs, targets = batch\n",
        "  predictions = predict(params,inputs)\n",
        "  return jnp.sum((predictions-targets)**2)"
      ],
      "metadata": {
        "id": "qNsIU1g-dF5d"
      },
      "execution_count": 16,
      "outputs": []
    },
    {
      "cell_type": "code",
      "source": [
        "params = list(map(init_layer, keys, layer_sizes[:-1], layer_sizes[1:]))\n",
        "params"
      ],
      "metadata": {
        "colab": {
          "base_uri": "https://localhost:8080/"
        },
        "id": "VVMMg0u-eYos",
        "outputId": "e8b599c7-6b8c-4259-8c69-7039d501a5d5"
      },
      "execution_count": 17,
      "outputs": [
        {
          "output_type": "execute_result",
          "data": {
            "text/plain": [
              "[(DeviceArray([[-3.3101373 , -0.54429305],\n",
              "               [ 0.50362825, -0.09967706],\n",
              "               [ 1.928792  ,  0.2380951 ],\n",
              "               [-1.0271916 ,  0.38994825],\n",
              "               [ 0.6086258 , -1.0101831 ]], dtype=float32),\n",
              "  DeviceArray([-0.24502717, -0.8321449 ], dtype=float32)),\n",
              " (DeviceArray([[-0.48060644, -0.57022816,  0.28993058],\n",
              "               [ 0.68064284, -0.76739717,  1.851759  ]], dtype=float32),\n",
              "  DeviceArray([-1.9195611,  1.9178468, -1.3020369], dtype=float32))]"
            ]
          },
          "metadata": {},
          "execution_count": 17
        }
      ]
    },
    {
      "cell_type": "code",
      "source": [
        "#Loss\n",
        "loss(params,batch)"
      ],
      "metadata": {
        "colab": {
          "base_uri": "https://localhost:8080/"
        },
        "id": "z4WTgPpAcTwb",
        "outputId": "0462221f-d952-4bf0-8b08-345727ce4302"
      },
      "execution_count": 18,
      "outputs": [
        {
          "output_type": "execute_result",
          "data": {
            "text/plain": [
              "DeviceArray(113.28918, dtype=float32)"
            ]
          },
          "metadata": {},
          "execution_count": 18
        }
      ]
    },
    {
      "cell_type": "code",
      "source": [
        "step_size = 1e-2\n",
        "\n",
        "#Training for 20 epochs\n",
        "\n",
        "for _ in range(20):\n",
        "  grads = grad(loss)(params,batch)\n",
        "  params = [(w-step_size*dw, b-step_size*db) for (w,b),(dw,db) in zip(params,grads)]\n",
        "\n",
        "print(loss(params,batch))\n"
      ],
      "metadata": {
        "colab": {
          "base_uri": "https://localhost:8080/"
        },
        "id": "-AnvcVqmcjZI",
        "outputId": "2eb66e5c-02f9-47d5-c8e0-971e51404bfa"
      },
      "execution_count": 19,
      "outputs": [
        {
          "output_type": "stream",
          "name": "stdout",
          "text": [
            "11.241646\n"
          ]
        }
      ]
    },
    {
      "cell_type": "code",
      "source": [
        ""
      ],
      "metadata": {
        "id": "mpOYlky7cUJQ"
      },
      "execution_count": 19,
      "outputs": []
    }
  ]
}